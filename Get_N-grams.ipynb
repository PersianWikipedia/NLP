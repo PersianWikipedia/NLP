{
 "cells": [
  {
   "cell_type": "markdown",
   "metadata": {},
   "source": [
    "Get wikipedia's n-grams base on the dump data"
   ]
  },
  {
   "cell_type": "markdown",
   "metadata": {},
   "source": [
    "# Download dump"
   ]
  },
  {
   "cell_type": "code",
   "execution_count": null,
   "metadata": {},
   "outputs": [],
   "source": [
    "import os\n",
    "The_path=r\"C:/Users/Reza/Desktop/core\"\n",
    "Dump_URL =u'https://dumps.wikimedia.org/fawiki/latest/fawiki-latest-pages-articles.xml.bz2'\n",
    "# download last dump\n",
    "os.system('wget '+Dump_URL +\" \"+The_path+\"/fawiki-latest-pages-articles.xml.bz2\")"
   ]
  },
  {
   "cell_type": "markdown",
   "metadata": {},
   "source": [
    "# Feature extraction "
   ]
  },
  {
   "cell_type": "markdown",
   "metadata": {},
   "source": [
    "This code extracts features from articles:\n",
    "* Article text file\n",
    "* Category of the article\n",
    "* Internal links inside the articles\n",
    "* File and images in articles\n"
   ]
  },
  {
   "cell_type": "code",
   "execution_count": 1,
   "metadata": {},
   "outputs": [
    {
     "name": "stdout",
     "output_type": "stream",
     "text": [
      "50000\n",
      "100000\n",
      "150000\n",
      "200000\n",
      "250000\n",
      "300000\n",
      "350000\n",
      "400000\n",
      "450000\n",
      "500000\n",
      "550000\n",
      "600000\n",
      "650000\n"
     ]
    }
   ],
   "source": [
    "import pickle\n",
    "import sys , re\n",
    "# Load pywikibot library\n",
    "sys.path.append(The_path)\n",
    "from pywikibot import xmlreader\n",
    "dump = xmlreader.XmlDump(The_path+r\"/fawiki-latest-pages-articles.xml.bz2\")\n",
    "\n",
    "farsi_char=r'ضصثقفغعهخحجچشسیبلاتنمکگظطزرذدپوآؤئيإأةكژ‌'# Persian Char + ZWNJ\n",
    "suported_extenstions=r'(?:[gt]iff?|png|jpe?g|web[mp]|xcf|pdf|mid|og[avg]|svg|djvu|flac|opus|wav|mp3)'\n",
    "\n",
    "def flat_text (text):\n",
    "    # clean and remove wiki sintax\n",
    "    text=text.replace('\\r','')\n",
    "    text=re.sub(r'\\{\\{[^\\}]+\\}\\}',' ',text)# remove wiki templates\n",
    "    text=re.sub('\\[\\[(?:رده|پرونده|تصویر)\\:.*?\\]\\]','',text) # remove categories and images\n",
    "    text=re.sub(r'\\<[^\\>]+\\>',' ',text) # remove commented texts\n",
    "    text=re.sub(r'\\n={1,}[^\\n]+\\={1,}',' ',text) # remove subtitles\n",
    "    text=re.sub(r'\\|[^\\=\\]\\n]+\\=',' ',text) # remove remained template variables\n",
    "    text=re.sub(r'\\[\\[[^\\|\\]]+\\|','',text) # to have correct text. I remove the piped text. eg. This is a [[foo|bar]] > This is bar\n",
    "    text=re.sub(r'\\.'+suported_extenstions,'',text)# remove useless . \n",
    "    text=text.replace('&ndash;',' ')# Replaced html space to not connect words\n",
    "    text=text.replace('[[',' ').replace(']]','')# replaced ]] and [[ with empty to connect the connected char after them. eg. [[book]]s > books\n",
    "    \n",
    "    text=re.sub(r'[^'+farsi_char+'\\.]+',' ',text)# removed none persian characters except . to find sentences\n",
    "    text=re.sub(r'\\.{1,}','.',text)# remove repeated .\n",
    "    text=re.sub(r'(\\. ){1,}','. ',text)# remove repeated .\n",
    "    \n",
    "    text=re.sub(r'\\s+',' ',text)# Replace \\n and space with one space\n",
    "    text=text.replace(' . ','. ')\n",
    "    return text\n",
    "\n",
    "def get_images(text):\n",
    "    images=re.findall(r'(?:[Ff]ile|[Ii]mage|پرونده)\\:.*?\\.'+suported_extenstions,text)\n",
    "    if images:\n",
    "        images=list(images)\n",
    "    else:\n",
    "        images=[]\n",
    "    return images\n",
    "\n",
    "def get_categories(text):\n",
    "    cats=re.findall(r'\\[\\[(?:[Cc]ategory|رده)\\:([^\\}\\{\\|\\]\\[\\n\\<\\>\\#\\\\\\:a-zA-Z0-9]+)\\]\\]',text)\n",
    "    if cats:\n",
    "        cats=list(cats)\n",
    "    else:\n",
    "        cats=[]\n",
    "    return cats\n",
    "\n",
    "def get_links(text):\n",
    "    text=re.sub('\\[\\[(?:رده|پرونده|تصویر)\\:.*?\\]\\]','',text)\n",
    "    \n",
    "    links=re.findall(r'\\[\\[([^\\}\\{\\|\\]\\[\\n\\<\\>\\#\\\\\\:a-zA-Z0-9]+)(?:\\|.*?)\\]\\]',text)\n",
    "    if links:\n",
    "        links=list(links)\n",
    "    else:\n",
    "        links=[]\n",
    "    return links\n",
    "\n",
    "category_dict={}\n",
    "links_dict={}\n",
    "image_dict={}\n",
    "title_dict={}\n",
    "text_dict={}\n",
    "\n",
    "counter=0\n",
    "for entry in dump.parse():\n",
    "    if entry.ns =='0' and not entry.isredirect:\n",
    "        counter+=1\n",
    "        text_dict[entry.id]=flat_text(entry.text)\n",
    "        title_dict[entry.id]=entry.title\n",
    "        image_dict[entry.id]=get_images(entry.text)\n",
    "        links_dict[entry.id]=get_links(entry.text)\n",
    "        category_dict[entry.id]=get_categories(entry.text)\n",
    "        if counter % 50000==0:\n",
    "            print(counter)\n"
   ]
  },
  {
   "cell_type": "markdown",
   "metadata": {},
   "source": [
    "## Save Data"
   ]
  },
  {
   "cell_type": "code",
   "execution_count": 2,
   "metadata": {},
   "outputs": [],
   "source": [
    "with open('text_dict.pickle', 'wb') as handle:\n",
    "    pickle.dump(text_dict, handle, protocol=pickle.HIGHEST_PROTOCOL)\n",
    "    \n",
    "with open('title_dict.pickle', 'wb') as handle:\n",
    "    pickle.dump(title_dict, handle, protocol=pickle.HIGHEST_PROTOCOL)\n",
    "    \n",
    "with open('image_dict.pickle', 'wb') as handle:\n",
    "    pickle.dump(image_dict, handle, protocol=pickle.HIGHEST_PROTOCOL)\n",
    "    \n",
    "with open('links_dict.pickle', 'wb') as handle:\n",
    "    pickle.dump(links_dict, handle, protocol=pickle.HIGHEST_PROTOCOL)\n",
    "    \n",
    "with open('category_dict.pickle', 'wb') as handle:\n",
    "    pickle.dump(category_dict, handle, protocol=pickle.HIGHEST_PROTOCOL)"
   ]
  },
  {
   "cell_type": "markdown",
   "metadata": {},
   "source": [
    "## Load data"
   ]
  },
  {
   "cell_type": "code",
   "execution_count": 1,
   "metadata": {},
   "outputs": [],
   "source": [
    "import pickle\n",
    "# Load text lists\n",
    "pickle_in = open(\"text_dict.pickle\",\"rb\")\n",
    "text_dict = pickle.load(pickle_in)\n",
    "text_list=text_dict.values()\n",
    "\n",
    "'''\n",
    "\n",
    "total_text=' '.join(text_list)\n",
    "\n",
    "pickle_in = open(\"title_dict.pickle\",\"rb\")\n",
    "title_dict = pickle.load(pickle_in)\n",
    "\n",
    "pickle_in = open(\"image_dict.pickle\",\"rb\")\n",
    "image_dict = pickle.load(pickle_in)\n",
    "\n",
    "pickle_in = open(\"links_dict.pickle\",\"rb\")\n",
    "links_dict = pickle.load(pickle_in)\n",
    "\n",
    "pickle_in = open(\"category_dict.pickle\",\"rb\")\n",
    "category_dict = pickle.load(pickle_in)\n",
    "\n",
    "'''\n",
    "del text_dict"
   ]
  },
  {
   "cell_type": "markdown",
   "metadata": {},
   "source": [
    "# Bio-grams"
   ]
  },
  {
   "cell_type": "markdown",
   "metadata": {},
   "source": [
    "get the most frequent words at the articles"
   ]
  },
  {
   "cell_type": "code",
   "execution_count": 2,
   "metadata": {},
   "outputs": [],
   "source": [
    "from sklearn.feature_extraction.text import CountVectorizer\n",
    "import pandas as pd\n",
    "import numpy as np\n",
    "import operator"
   ]
  },
  {
   "cell_type": "code",
   "execution_count": 3,
   "metadata": {},
   "outputs": [
    {
     "data": {
      "text/html": [
       "<div>\n",
       "<style scoped>\n",
       "    .dataframe tbody tr th:only-of-type {\n",
       "        vertical-align: middle;\n",
       "    }\n",
       "\n",
       "    .dataframe tbody tr th {\n",
       "        vertical-align: top;\n",
       "    }\n",
       "\n",
       "    .dataframe thead th {\n",
       "        text-align: right;\n",
       "    }\n",
       "</style>\n",
       "<table border=\"1\" class=\"dataframe\">\n",
       "  <thead>\n",
       "    <tr style=\"text-align: right;\">\n",
       "      <th></th>\n",
       "      <th>C</th>\n",
       "    </tr>\n",
       "  </thead>\n",
       "  <tbody>\n",
       "    <tr>\n",
       "      <th>در</th>\n",
       "      <td>3756517</td>\n",
       "    </tr>\n",
       "    <tr>\n",
       "      <th>و</th>\n",
       "      <td>3577758</td>\n",
       "    </tr>\n",
       "    <tr>\n",
       "      <th>به</th>\n",
       "      <td>2307853</td>\n",
       "    </tr>\n",
       "    <tr>\n",
       "      <th>از</th>\n",
       "      <td>2167464</td>\n",
       "    </tr>\n",
       "    <tr>\n",
       "      <th>که</th>\n",
       "      <td>1531830</td>\n",
       "    </tr>\n",
       "  </tbody>\n",
       "</table>\n",
       "</div>"
      ],
      "text/plain": [
       "          C\n",
       "در  3756517\n",
       "و   3577758\n",
       "به  2307853\n",
       "از  2167464\n",
       "که  1531830"
      ]
     },
     "execution_count": 3,
     "metadata": {},
     "output_type": "execute_result"
    }
   ],
   "source": [
    "# Convert text list to the string\n",
    "my_text=' '.join(text_list)\n",
    "# Remove .\n",
    "my_text=my_text.replace('.','')\n",
    "# Split text base on the space\n",
    "words=my_text.split(' ')\n",
    "# make data frame\n",
    "df=pd.DataFrame(pd.Series(words),columns=['C'])\n",
    "df=pd.DataFrame(df.C.value_counts())\n",
    "df.to_csv('reza.csv', sep=',', encoding='utf-8')\n",
    "df.head()"
   ]
  },
  {
   "cell_type": "markdown",
   "metadata": {},
   "source": [
    "## N-grams"
   ]
  },
  {
   "cell_type": "code",
   "execution_count": 4,
   "metadata": {},
   "outputs": [
    {
     "name": "stdout",
     "output_type": "stream",
     "text": [
      "0\n",
      "100000\n",
      "200000\n",
      "300000\n",
      "400000\n",
      "500000\n",
      "600000\n"
     ]
    }
   ],
   "source": [
    "total_List=[]\n",
    "text_list=list(text_list)\n",
    "\n",
    "def get_ngram(my_list):\n",
    "    vectorizer = CountVectorizer(ngram_range=(2,4))\n",
    "    vectorizer.fit(my_list)\n",
    "    vector_count = vectorizer.transform(my_list)\n",
    "    # organize the result\n",
    "    my_dict=dict(zip(vectorizer.get_feature_names(), np.asarray(vector_count.sum(axis=0))[0]))\n",
    "    sorted_x = sorted(my_dict.items(), key=operator.itemgetter(1),reverse=True)\n",
    "    if len(sorted_x)>20000:\n",
    "        return sorted_x[:20000]\n",
    "    else:\n",
    "        return sorted_x\n",
    "\n",
    "for i in range(0,667100,100):\n",
    "    text_list2=text_list[i:i+1]\n",
    "    my_dict=get_ngram (text_list2)\n",
    "    if my_dict:\n",
    "        total_List.append(my_dict)\n",
    "    if i%100000==0:\n",
    "        print (i)"
   ]
  },
  {
   "cell_type": "markdown",
   "metadata": {},
   "source": [
    "### Join N-grams"
   ]
  },
  {
   "cell_type": "code",
   "execution_count": 12,
   "metadata": {},
   "outputs": [
    {
     "data": {
      "text/html": [
       "<div>\n",
       "<style scoped>\n",
       "    .dataframe tbody tr th:only-of-type {\n",
       "        vertical-align: middle;\n",
       "    }\n",
       "\n",
       "    .dataframe tbody tr th {\n",
       "        vertical-align: top;\n",
       "    }\n",
       "\n",
       "    .dataframe thead th {\n",
       "        text-align: right;\n",
       "    }\n",
       "</style>\n",
       "<table border=\"1\" class=\"dataframe\">\n",
       "  <thead>\n",
       "    <tr style=\"text-align: right;\">\n",
       "      <th></th>\n",
       "      <th>N-garm</th>\n",
       "      <th>Frequency</th>\n",
       "    </tr>\n",
       "  </thead>\n",
       "  <tbody>\n",
       "    <tr>\n",
       "      <th>0</th>\n",
       "      <td>است که</td>\n",
       "      <td>4121</td>\n",
       "    </tr>\n",
       "    <tr>\n",
       "      <th>1</th>\n",
       "      <td>که در</td>\n",
       "      <td>3982</td>\n",
       "    </tr>\n",
       "    <tr>\n",
       "      <th>2</th>\n",
       "      <td>شده است</td>\n",
       "      <td>3606</td>\n",
       "    </tr>\n",
       "    <tr>\n",
       "      <th>3</th>\n",
       "      <td>در سال</td>\n",
       "      <td>3331</td>\n",
       "    </tr>\n",
       "    <tr>\n",
       "      <th>4</th>\n",
       "      <td>می شود</td>\n",
       "      <td>2676</td>\n",
       "    </tr>\n",
       "  </tbody>\n",
       "</table>\n",
       "</div>"
      ],
      "text/plain": [
       "    N-garm  Frequency\n",
       "0   است که       4121\n",
       "1    که در       3982\n",
       "2  شده است       3606\n",
       "3   در سال       3331\n",
       "4   می شود       2676"
      ]
     },
     "execution_count": 12,
     "metadata": {},
     "output_type": "execute_result"
    }
   ],
   "source": [
    "new_list=[]\n",
    "for i in total_List:\n",
    "    new_list+=i\n",
    "# convert total list to data frame\n",
    "df=pd.DataFrame(new_list,columns=['N-garm','N'])\n",
    "# sum duplicated rows\n",
    "df['Frequency'] = df.groupby(['N-garm'])['N'].transform('sum')\n",
    "new_df = df.drop_duplicates(subset=['N-garm'])\n",
    "# sort rows\n",
    "new_df=new_df.sort_values(['Frequency'], ascending=[False])\n",
    "new_df=new_df.drop(columns='N')\n",
    "# save n-grams\n",
    "new_df.to_csv('n-grams.csv', sep=',', encoding='utf-8')\n",
    "new_df.reset_index(inplace=True)\n",
    "new_df.drop(columns='index',inplace=True)\n",
    "new_df.head()"
   ]
  }
 ],
 "metadata": {
  "kernelspec": {
   "display_name": "Python 3",
   "language": "python",
   "name": "python3"
  },
  "language_info": {
   "codemirror_mode": {
    "name": "ipython",
    "version": 3
   },
   "file_extension": ".py",
   "mimetype": "text/x-python",
   "name": "python",
   "nbconvert_exporter": "python",
   "pygments_lexer": "ipython3",
   "version": "3.6.5"
  }
 },
 "nbformat": 4,
 "nbformat_minor": 2
}
